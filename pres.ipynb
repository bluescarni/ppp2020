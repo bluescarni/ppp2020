{
 "cells": [
  {
   "cell_type": "markdown",
   "metadata": {
    "slideshow": {
     "slide_type": "slide"
    }
   },
   "source": [
    "# N-Body Simulations of the final contraction phase during gravoturbulent formation of planetesimals\n",
    "\n",
    "## Francesco Biscani, Hubert Klahr"
   ]
  },
  {
   "cell_type": "markdown",
   "metadata": {
    "slideshow": {
     "slide_type": "slide"
    }
   },
   "source": [
    "## Model"
   ]
  },
  {
   "cell_type": "markdown",
   "metadata": {
    "slideshow": {
     "slide_type": "fragment"
    }
   },
   "source": [
    "* Self gravitating clouds of physical particles"
   ]
  },
  {
   "cell_type": "markdown",
   "metadata": {
    "slideshow": {
     "slide_type": "fragment"
    }
   },
   "source": [
    "* Newtonian self-gravity + tidal effects"
   ]
  },
  {
   "cell_type": "markdown",
   "metadata": {
    "slideshow": {
     "slide_type": "fragment"
    }
   },
   "source": [
    "* Collisions"
   ]
  },
  {
   "cell_type": "markdown",
   "metadata": {
    "slideshow": {
     "slide_type": "slide"
    }
   },
   "source": [
    "<center><video controls src=\"./out24.mp4\"/></center>"
   ]
  },
  {
   "cell_type": "markdown",
   "metadata": {
    "slideshow": {
     "slide_type": "slide"
    }
   },
   "source": [
    "## Units of measure\n",
    "\n",
    "$$\n",
    "\\begin{gather*}\n",
    " G  = r_H = M = 1 \\\\\n",
    " \\rho_H = \\frac{3}{4\\pi} \\\\\n",
    " t_{ff} = \\frac{\\pi}{2\\sqrt{2}}\\sim 1.11 \\\\\n",
    " T = 2\\pi\\sqrt{3} \\sim 10.9 \\\\\n",
    " 0 < \\eta_c < 1 \\\\\n",
    "\\end{gather*}\n",
    "$$\n",
    "\n",
    "Inner Solar System: $\\eta_c \\sim 10^{-2}$ \\\n",
    "Kuiper belt: $\\eta_c \\sim 10^{-4}$"
   ]
  },
  {
   "cell_type": "markdown",
   "metadata": {
    "slideshow": {
     "slide_type": "slide"
    }
   },
   "source": [
    "## Challenges and simplifications"
   ]
  },
  {
   "cell_type": "markdown",
   "metadata": {
    "slideshow": {
     "slide_type": "fragment"
    }
   },
   "source": [
    "* Too many particles ($N_p\\sim 10^{18}-10^{23}$)"
   ]
  },
  {
   "cell_type": "markdown",
   "metadata": {
    "slideshow": {
     "slide_type": "fragment"
    }
   },
   "source": [
    "* Super-particle formulation ($N_{sp} = 10^5$)"
   ]
  },
  {
   "cell_type": "markdown",
   "metadata": {
    "slideshow": {
     "slide_type": "fragment"
    }
   },
   "source": [
    "* Need tree-based gravity computation"
   ]
  },
  {
   "cell_type": "markdown",
   "metadata": {
    "slideshow": {
     "slide_type": "fragment"
    }
   },
   "source": [
    "* Physically-realistic contact/collision handling"
   ]
  },
  {
   "cell_type": "markdown",
   "metadata": {
    "slideshow": {
     "slide_type": "fragment"
    }
   },
   "source": [
    "<center><b>GOAL</b>: physically-accurate dynamical modelling of primordial rubble-pile objects</center>"
   ]
  },
  {
   "cell_type": "markdown",
   "metadata": {
    "slideshow": {
     "slide_type": "slide"
    }
   },
   "source": [
    "## Software"
   ]
  },
  {
   "cell_type": "markdown",
   "metadata": {
    "slideshow": {
     "slide_type": "fragment"
    }
   },
   "source": [
    "* No existing code checks all the boxes"
   ]
  },
  {
   "cell_type": "markdown",
   "metadata": {
    "slideshow": {
     "slide_type": "fragment"
    }
   },
   "source": [
    "* Early experiments with REBOUND (not satisfactory)"
   ]
  },
  {
   "cell_type": "markdown",
   "metadata": {
    "slideshow": {
     "slide_type": "fragment"
    }
   },
   "source": [
    "* Own N-body code (https://github.com/bluescarni/rakau)"
   ]
  },
  {
   "cell_type": "markdown",
   "metadata": {
    "slideshow": {
     "slide_type": "fragment"
    }
   },
   "source": [
    "* Coupled to the Chrono library (https://projectchrono.org/)\n",
    "\n",
    "<center><img style=\"width:25%;\" src=\"chrono.png\"></center>"
   ]
  },
  {
   "cell_type": "markdown",
   "metadata": {
    "slideshow": {
     "slide_type": "slide"
    }
   },
   "source": [
    "## Hertz contact mechanics\n",
    "<br/><br/>\n",
    "<center><img src='hertz.jpg' style=\"width:85%;\"></center>"
   ]
  },
  {
   "cell_type": "markdown",
   "metadata": {
    "slideshow": {
     "slide_type": "slide"
    }
   },
   "source": [
    "## Initial conditions"
   ]
  },
  {
   "cell_type": "markdown",
   "metadata": {
    "slideshow": {
     "slide_type": "fragment"
    }
   },
   "source": [
    "* Particle distributions:\n",
    "  1. Uniform\n",
    "  1. Plummer"
   ]
  },
  {
   "cell_type": "markdown",
   "metadata": {
    "slideshow": {
     "slide_type": "fragment"
    }
   },
   "source": [
    "* Initial cloud rotation ($0 \\leq \\omega \\leq $1)"
   ]
  },
  {
   "cell_type": "markdown",
   "metadata": {
    "slideshow": {
     "slide_type": "slide"
    }
   },
   "source": [
    "## Super-particles, take #1"
   ]
  },
  {
   "cell_type": "markdown",
   "metadata": {
    "slideshow": {
     "slide_type": "fragment"
    }
   },
   "source": [
    "* Each SP represents a large ($\\sim 100\\,\\textrm{m}$) spherical boulder"
   ]
  },
  {
   "cell_type": "markdown",
   "metadata": {
    "slideshow": {
     "slide_type": "fragment"
    }
   },
   "source": [
    "* Purely Newtonian gravity"
   ]
  },
  {
   "cell_type": "markdown",
   "metadata": {
    "slideshow": {
     "slide_type": "fragment"
    }
   },
   "source": [
    "* SPs interact as solid bodies"
   ]
  },
  {
   "cell_type": "markdown",
   "metadata": {
    "slideshow": {
     "slide_type": "slide"
    }
   },
   "source": [
    "## Executive summary (inner Solar System)\n",
    "\n",
    "* Plummer distribution:\n",
    "  * Outcome: large, elongated, rapidly rotating central object\n",
    "  * One or more smaller satellites\n",
    "  * Weak sensitivity to $\\omega$\n",
    "  * High planetesimal formation efficiency\n",
    "* Uniform distribution:\n",
    "  * Outcome: initial system of multiple bodies of similar size\n",
    "  * Chaotic dynamical evolution -> consolidation in 2/3-body systems\n",
    "  * High sensitivity to $\\omega$\n",
    "  * Lower planetesimal formation efficieny"
   ]
  },
  {
   "cell_type": "markdown",
   "metadata": {
    "slideshow": {
     "slide_type": "slide"
    }
   },
   "source": [
    "<center><video controls src=\"./out23.mp4\" /></center>"
   ]
  },
  {
   "cell_type": "markdown",
   "metadata": {
    "slideshow": {
     "slide_type": "slide"
    }
   },
   "source": [
    "<center><video controls src=\"./out11.mp4\" /></center>"
   ]
  },
  {
   "cell_type": "markdown",
   "metadata": {
    "slideshow": {
     "slide_type": "slide"
    }
   },
   "source": [
    "<center><img src='where.jpg' style=\"width:30%;\"></center>"
   ]
  },
  {
   "cell_type": "markdown",
   "metadata": {
    "slideshow": {
     "slide_type": "fragment"
    }
   },
   "source": [
    "<center><img src='ida.jpg' style=\"width:30%;\"></center>"
   ]
  },
  {
   "cell_type": "markdown",
   "metadata": {
    "slideshow": {
     "slide_type": "slide"
    }
   },
   "source": [
    "<center><video controls src=\"./out16.mp4\" /></center>"
   ]
  },
  {
   "cell_type": "markdown",
   "metadata": {
    "slideshow": {
     "slide_type": "slide"
    }
   },
   "source": [
    "<center><video controls src=\"./out12.mp4\" /></center>"
   ]
  },
  {
   "cell_type": "markdown",
   "metadata": {
    "slideshow": {
     "slide_type": "slide"
    }
   },
   "source": [
    "<center><img src='where.jpg' style=\"width:30%;\"></center>"
   ]
  },
  {
   "cell_type": "markdown",
   "metadata": {
    "slideshow": {
     "slide_type": "fragment"
    }
   },
   "source": [
    "<center><img src='arrokoth.png' style=\"width:15%;\"></center>"
   ]
  },
  {
   "cell_type": "markdown",
   "metadata": {
    "slideshow": {
     "slide_type": "slide"
    }
   },
   "source": [
    "<center><video controls src=\"./out17.mp4\" /></center>"
   ]
  },
  {
   "cell_type": "markdown",
   "metadata": {
    "slideshow": {
     "slide_type": "slide"
    }
   },
   "source": [
    "<center><img src='where.jpg' style=\"width:30%;\"></center>"
   ]
  },
  {
   "cell_type": "markdown",
   "metadata": {
    "slideshow": {
     "slide_type": "fragment"
    }
   },
   "source": [
    "<center><img src='chury.jpg' style=\"width:30%;\"></center>"
   ]
  },
  {
   "cell_type": "markdown",
   "metadata": {
    "slideshow": {
     "slide_type": "slide"
    }
   },
   "source": [
    "<center><img src='top_20_trajs.png' style=\"width:100%;\"></center>"
   ]
  },
  {
   "cell_type": "markdown",
   "metadata": {
    "slideshow": {
     "slide_type": "slide"
    }
   },
   "source": [
    "<center><img src='top_20_trajs_zoom.png' style=\"width:100%;\"></center>"
   ]
  },
  {
   "cell_type": "markdown",
   "metadata": {
    "slideshow": {
     "slide_type": "slide"
    }
   },
   "source": [
    "<center><img src='sheared_mass_plummer.svg' style=\"width:100%;\"></center>"
   ]
  },
  {
   "cell_type": "markdown",
   "metadata": {
    "slideshow": {
     "slide_type": "slide"
    }
   },
   "source": [
    "<center><img src='sheared_mass_uniform.svg' style=\"width:100%;\"></center>"
   ]
  },
  {
   "cell_type": "markdown",
   "metadata": {
    "slideshow": {
     "slide_type": "slide"
    }
   },
   "source": [
    "<center><img src='clustered_mass_plummer.svg' style=\"width:100%;\"></center>"
   ]
  },
  {
   "cell_type": "markdown",
   "metadata": {
    "slideshow": {
     "slide_type": "slide"
    }
   },
   "source": [
    "<center><img src='clustered_mass_uniform.svg' style=\"width:100%;\"></center>"
   ]
  },
  {
   "cell_type": "markdown",
   "metadata": {
    "slideshow": {
     "slide_type": "slide"
    }
   },
   "source": [
    "<center><img src='n_large_plummer.svg' style=\"width:100%;\"></center>"
   ]
  },
  {
   "cell_type": "markdown",
   "metadata": {
    "slideshow": {
     "slide_type": "slide"
    }
   },
   "source": [
    "<center><img src='n_large_uniform.svg' style=\"width:100%;\"></center>"
   ]
  },
  {
   "cell_type": "markdown",
   "metadata": {
    "slideshow": {
     "slide_type": "slide"
    }
   },
   "source": [
    "<center><video controls src=\"./gcoll01.mp4\" /></center>"
   ]
  },
  {
   "cell_type": "markdown",
   "metadata": {
    "slideshow": {
     "slide_type": "slide"
    }
   },
   "source": [
    "<center><img src='spin_evo.svg' style=\"width:100%;\"></center>"
   ]
  },
  {
   "cell_type": "markdown",
   "metadata": {
    "slideshow": {
     "slide_type": "slide"
    }
   },
   "source": [
    "## Issues with solid SP (aka boulders)\n",
    "\n",
    "* Unrealisic size and density at the beginning of the simulation\n",
    "* Underestimation of collision rate during collapse\n",
    "* Underestimation of kinetic energy loss during collapse\n",
    "* In the outer Solar System ($\\eta_c \\sim 10^{-4}$) planetesimals do not form"
   ]
  },
  {
   "cell_type": "markdown",
   "metadata": {
    "slideshow": {
     "slide_type": "slide"
    }
   },
   "source": [
    "## Super-particles, take #2 (WIP)\n",
    "\n",
    "* Super-particles represents clouds of physical particles ($\\sim1\\,\\text{mm}/\\text{cm}$, $n_p\\sim 10^{12}-10^{17}$)\n",
    "* They can overlap\n",
    "* They interact via a modified Newtonian potential\n",
    "* SP overlaps result in the dissipation of kinetic energy\n",
    "* They contract during the collapse phase, until they become solid SPs"
   ]
  },
  {
   "cell_type": "markdown",
   "metadata": {
    "slideshow": {
     "slide_type": "slide"
    }
   },
   "source": [
    "## Interacting SPs\n",
    "\n",
    "<img style=\"float: left;width:50%;\" src=\"new_sp.svg\">\n",
    "\n",
    "  \n",
    "$$\n",
    "\\begin{aligned}\n",
    "\\tau &=\\frac{1}{\\sigma \\rho_N v_{ij}} \\\\\n",
    "n_{cpp} &=\\frac{\\Delta t}{\\tau} \\\\\n",
    "\\Delta K &= \\frac{1}{12}\\frac{n_\\text{tot}}{n_p}v_{ij}^2\\left( \\epsilon^2-1\\right) \\\\\n",
    "a_{ij} &= mr\\frac{ r^3-18rR^2+32R^3 }{32R^6}\n",
    "\\end{aligned}\n",
    "$$\n",
    "\n",
    "$\\Delta K$ is discharged across $\\boldsymbol{r}$ or across $\\boldsymbol{v}_{ij}$"
   ]
  },
  {
   "cell_type": "markdown",
   "metadata": {
    "slideshow": {
     "slide_type": "slide"
    }
   },
   "source": [
    "<center><img src='sp_cmp1.svg' style=\"width:100%;\"></center>"
   ]
  },
  {
   "cell_type": "markdown",
   "metadata": {
    "slideshow": {
     "slide_type": "slide"
    }
   },
   "source": [
    "<center><img src='vdist.svg' style=\"width:100%;\"></center>"
   ]
  },
  {
   "cell_type": "markdown",
   "metadata": {
    "slideshow": {
     "slide_type": "slide"
    }
   },
   "source": [
    "<center><img src='cldist_sp_cmp.svg' style=\"width:100%;\"></center>"
   ]
  }
 ],
 "metadata": {
  "celltoolbar": "Slideshow",
  "kernelspec": {
   "display_name": "Python 3",
   "language": "python",
   "name": "python3"
  },
  "language_info": {
   "codemirror_mode": {
    "name": "ipython",
    "version": 3
   },
   "file_extension": ".py",
   "mimetype": "text/x-python",
   "name": "python",
   "nbconvert_exporter": "python",
   "pygments_lexer": "ipython3",
   "version": "3.6.10"
  }
 },
 "nbformat": 4,
 "nbformat_minor": 4
}
